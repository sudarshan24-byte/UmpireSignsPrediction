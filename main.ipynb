{
 "cells": [
  {
   "cell_type": "code",
   "execution_count": 1,
   "metadata": {},
   "outputs": [
    {
     "name": "stdout",
     "output_type": "stream",
     "text": [
      "WARNING:tensorflow:From e:\\Projects\\Data\\DataAnalysis\\MSDhoniAnalysis\\venv\\Lib\\site-packages\\keras\\src\\losses.py:2976: The name tf.losses.sparse_softmax_cross_entropy is deprecated. Please use tf.compat.v1.losses.sparse_softmax_cross_entropy instead.\n",
      "\n"
     ]
    }
   ],
   "source": [
    "from tensorflow import keras\n",
    "from tensorflow.keras import layers\n",
    "from tensorflow.keras.models import Sequential\n",
    "import tensorflow as tf"
   ]
  },
  {
   "cell_type": "code",
   "execution_count": 2,
   "metadata": {},
   "outputs": [
    {
     "name": "stdout",
     "output_type": "stream",
     "text": [
      "Found 216 images belonging to 4 classes.\n"
     ]
    },
    {
     "name": "stdout",
     "output_type": "stream",
     "text": [
      "Found 44 images belonging to 4 classes.\n"
     ]
    }
   ],
   "source": [
    "train_datagen = tf.keras.preprocessing.image.ImageDataGenerator(\n",
    "    rescale=1./255,\n",
    "    shear_range=0.2,\n",
    "    zoom_range=0.2,\n",
    "    horizontal_flip=True\n",
    ")\n",
    "\n",
    "test_datagen = tf.keras.preprocessing.image.ImageDataGenerator(rescale=1./255)\n",
    "\n",
    "train_generator = train_datagen.flow_from_directory(\n",
    "    'train',\n",
    "    target_size = (180, 180),\n",
    "    batch_size = 16,\n",
    "    class_mode='sparse'\n",
    ")\n",
    "\n",
    "validation_generator = test_datagen.flow_from_directory(\n",
    "    'validate',\n",
    "    target_size = (180, 180),\n",
    "    batch_size = 16,\n",
    "    class_mode='sparse'\n",
    ")"
   ]
  },
  {
   "cell_type": "code",
   "execution_count": 3,
   "metadata": {},
   "outputs": [],
   "source": [
    "from keras.layers import Dense,Conv2D,MaxPooling2D,Flatten,BatchNormalization,Dropout"
   ]
  },
  {
   "cell_type": "code",
   "execution_count": 18,
   "metadata": {},
   "outputs": [],
   "source": [
    "model = Sequential()\n",
    "\n",
    "model.add(Conv2D(64,kernel_size=(3,3),activation='relu',input_shape=(180,180,3)))\n",
    "model.add(MaxPooling2D(pool_size=(2,2)))\n",
    "\n",
    "model.add(Conv2D(32,kernel_size=(3,3),activation='relu'))\n",
    "model.add(MaxPooling2D(pool_size=(2,2)))\n",
    "\n",
    "model.add(Conv2D(64,kernel_size=(3,3),activation='relu'))\n",
    "model.add(MaxPooling2D(pool_size=(2,2)))\n",
    "\n",
    "model.add(Flatten())\n",
    "\n",
    "model.add(Dense(128,activation='relu'))\n",
    "model.add(Dense(4,activation='softmax'))"
   ]
  },
  {
   "cell_type": "code",
   "execution_count": 19,
   "metadata": {},
   "outputs": [
    {
     "name": "stdout",
     "output_type": "stream",
     "text": [
      "Epoch 1/20\n"
     ]
    },
    {
     "name": "stderr",
     "output_type": "stream",
     "text": [
      "C:\\Users\\Asus\\AppData\\Local\\Temp\\ipykernel_15928\\2852051086.py:8: UserWarning: `Model.fit_generator` is deprecated and will be removed in a future version. Please use `Model.fit`, which supports generators.\n",
      "  model.fit_generator(\n"
     ]
    },
    {
     "name": "stdout",
     "output_type": "stream",
     "text": [
      "13/13 [==============================] - 6s 410ms/step - loss: 2.3313 - accuracy: 0.2600 - val_loss: 1.3858 - val_accuracy: 0.3125\n",
      "Epoch 2/20\n",
      "13/13 [==============================] - 5s 356ms/step - loss: 1.3803 - accuracy: 0.3000 - val_loss: 1.3960 - val_accuracy: 0.2188\n",
      "Epoch 3/20\n",
      "13/13 [==============================] - 4s 331ms/step - loss: 1.3676 - accuracy: 0.4100 - val_loss: 1.2828 - val_accuracy: 0.4375\n",
      "Epoch 4/20\n",
      "13/13 [==============================] - 4s 327ms/step - loss: 1.3146 - accuracy: 0.4100 - val_loss: 1.2379 - val_accuracy: 0.5312\n",
      "Epoch 5/20\n",
      "13/13 [==============================] - 4s 324ms/step - loss: 1.2305 - accuracy: 0.5000 - val_loss: 1.2073 - val_accuracy: 0.5312\n",
      "Epoch 6/20\n",
      "13/13 [==============================] - 4s 323ms/step - loss: 1.1031 - accuracy: 0.5750 - val_loss: 1.1250 - val_accuracy: 0.5312\n",
      "Epoch 7/20\n",
      "13/13 [==============================] - 4s 331ms/step - loss: 1.0488 - accuracy: 0.6050 - val_loss: 1.0125 - val_accuracy: 0.6562\n",
      "Epoch 8/20\n",
      "13/13 [==============================] - 5s 338ms/step - loss: 0.8228 - accuracy: 0.6827 - val_loss: 0.9440 - val_accuracy: 0.6562\n",
      "Epoch 9/20\n",
      "13/13 [==============================] - 4s 328ms/step - loss: 0.7832 - accuracy: 0.7050 - val_loss: 1.1015 - val_accuracy: 0.7500\n",
      "Epoch 10/20\n",
      "13/13 [==============================] - 4s 328ms/step - loss: 0.7278 - accuracy: 0.7250 - val_loss: 0.8589 - val_accuracy: 0.5938\n",
      "Epoch 11/20\n",
      "13/13 [==============================] - 4s 330ms/step - loss: 0.6497 - accuracy: 0.7800 - val_loss: 1.0164 - val_accuracy: 0.5312\n",
      "Epoch 12/20\n",
      "13/13 [==============================] - 4s 337ms/step - loss: 0.5396 - accuracy: 0.8050 - val_loss: 1.2634 - val_accuracy: 0.5938\n",
      "Epoch 13/20\n",
      "13/13 [==============================] - 4s 334ms/step - loss: 0.5508 - accuracy: 0.7700 - val_loss: 0.9445 - val_accuracy: 0.6875\n",
      "Epoch 14/20\n",
      "13/13 [==============================] - 5s 342ms/step - loss: 0.4061 - accuracy: 0.8300 - val_loss: 1.2424 - val_accuracy: 0.5625\n",
      "Epoch 15/20\n",
      "13/13 [==============================] - 4s 330ms/step - loss: 0.3858 - accuracy: 0.8500 - val_loss: 1.2796 - val_accuracy: 0.6250\n",
      "Epoch 16/20\n",
      "13/13 [==============================] - 5s 353ms/step - loss: 0.3368 - accuracy: 0.9200 - val_loss: 1.2208 - val_accuracy: 0.7188\n",
      "Epoch 17/20\n",
      "13/13 [==============================] - 5s 353ms/step - loss: 0.3362 - accuracy: 0.8900 - val_loss: 0.9538 - val_accuracy: 0.7188\n",
      "Epoch 18/20\n",
      "13/13 [==============================] - 5s 394ms/step - loss: 0.2379 - accuracy: 0.9100 - val_loss: 0.9739 - val_accuracy: 0.7188\n",
      "Epoch 19/20\n",
      "13/13 [==============================] - 5s 391ms/step - loss: 0.1970 - accuracy: 0.9279 - val_loss: 1.6125 - val_accuracy: 0.6562\n",
      "Epoch 20/20\n",
      "13/13 [==============================] - 5s 357ms/step - loss: 0.4974 - accuracy: 0.8600 - val_loss: 1.0053 - val_accuracy: 0.7500\n"
     ]
    },
    {
     "data": {
      "text/plain": [
       "<keras.src.callbacks.History at 0x150febd0f90>"
      ]
     },
     "execution_count": 19,
     "metadata": {},
     "output_type": "execute_result"
    }
   ],
   "source": [
    "\n",
    "model.compile(\n",
    "    optimizer='rmsprop',\n",
    "    loss='sparse_categorical_crossentropy',\n",
    "    metrics=['accuracy']\n",
    ")\n",
    "\n",
    "\n",
    "model.fit_generator(\n",
    "    train_generator,\n",
    "    steps_per_epoch=216 // 16,\n",
    "    epochs=20,\n",
    "    validation_data = validation_generator,\n",
    "    validation_steps=44//16\n",
    ")"
   ]
  },
  {
   "cell_type": "code",
   "execution_count": 20,
   "metadata": {},
   "outputs": [
    {
     "name": "stdout",
     "output_type": "stream",
     "text": [
      "Found 52 images belonging to 4 classes.\n"
     ]
    },
    {
     "name": "stderr",
     "output_type": "stream",
     "text": [
      "C:\\Users\\Asus\\AppData\\Local\\Temp\\ipykernel_15928\\3461584280.py:8: UserWarning: `Model.evaluate_generator` is deprecated and will be removed in a future version. Please use `Model.evaluate`, which supports generators.\n",
      "  model.evaluate_generator(test_generator)\n"
     ]
    },
    {
     "data": {
      "text/plain": [
       "[1.084806203842163, 0.7307692170143127]"
      ]
     },
     "execution_count": 20,
     "metadata": {},
     "output_type": "execute_result"
    }
   ],
   "source": [
    "test_generator = test_datagen.flow_from_directory(\n",
    "    'test',\n",
    "    target_size=(180, 180),\n",
    "    batch_size=16,\n",
    "    class_mode='sparse' # Ensure the order of predictions matches the order of labels\n",
    ")\n",
    "\n",
    "model.evaluate_generator(test_generator)"
   ]
  },
  {
   "cell_type": "code",
   "execution_count": 24,
   "metadata": {},
   "outputs": [
    {
     "name": "stdout",
     "output_type": "stream",
     "text": [
      "1/1 [==============================] - 0s 35ms/step\n",
      "Predicted Class: wide\n"
     ]
    }
   ],
   "source": [
    "from keras.preprocessing import image\n",
    "import numpy as np\n",
    "\n",
    "# Load the image\n",
    "img_path = 'test.jpg'\n",
    "img = image.load_img(img_path, target_size=(180, 180))\n",
    "\n",
    "# Convert the image to a numpy array\n",
    "img_array = image.img_to_array(img)\n",
    "\n",
    "# Expand the dimensions to match the input shape expected by your model\n",
    "img_array = np.expand_dims(img_array, axis=0)\n",
    "\n",
    "# Preprocess the image (e.g., rescale pixel values to [0, 1])\n",
    "img_array = img_array / 255.0\n",
    "\n",
    "# Make predictions\n",
    "predictions = model.predict(img_array)\n",
    "\n",
    "# Assuming you have a list of class labels\n",
    "class_labels = ['noball', 'out', 'six', 'wide']  # Replace with your actual class labels\n",
    "\n",
    "# Get the predicted class index\n",
    "predicted_class_index = np.argmax(predictions)\n",
    "\n",
    "# Get the predicted class label\n",
    "predicted_class_label = class_labels[predicted_class_index]\n",
    "\n",
    "print(\"Predicted Class:\", predicted_class_label)"
   ]
  },
  {
   "cell_type": "code",
   "execution_count": null,
   "metadata": {},
   "outputs": [],
   "source": []
  }
 ],
 "metadata": {
  "kernelspec": {
   "display_name": "venv",
   "language": "python",
   "name": "python3"
  },
  "language_info": {
   "codemirror_mode": {
    "name": "ipython",
    "version": 3
   },
   "file_extension": ".py",
   "mimetype": "text/x-python",
   "name": "python",
   "nbconvert_exporter": "python",
   "pygments_lexer": "ipython3",
   "version": "3.11.5"
  }
 },
 "nbformat": 4,
 "nbformat_minor": 2
}
